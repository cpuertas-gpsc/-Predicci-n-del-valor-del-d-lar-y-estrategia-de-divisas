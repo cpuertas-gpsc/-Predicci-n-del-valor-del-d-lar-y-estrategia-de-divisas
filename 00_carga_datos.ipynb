{
 "cells": [
  {
   "cell_type": "code",
   "execution_count": 2,
   "id": "c70d5c68",
   "metadata": {},
   "outputs": [],
   "source": [
    "# Tratamiento y manipulación de datos\n",
    "import pandas as pd\n",
    "import numpy as np\n",
    "\n",
    "# Acceso a datos financieros\n",
    "import yfinance as yf\n",
    "import requests\n",
    "from io import StringIO\n",
    "\n",
    "# Visualización\n",
    "import matplotlib.pyplot as plt\n",
    "import seaborn as sns\n",
    "\n",
    "# Ajustes para gráficos\n",
    "%matplotlib inline\n",
    "sns.set(style='whitegrid', palette='deep', context='notebook')\n"
   ]
  },
  {
   "cell_type": "code",
   "execution_count": 3,
   "id": "863a27f4",
   "metadata": {},
   "outputs": [
    {
     "name": "stderr",
     "output_type": "stream",
     "text": [
      "C:\\Users\\cpuertas\\AppData\\Local\\Temp\\ipykernel_10832\\599427533.py:2: FutureWarning: YF.download() has changed argument auto_adjust default to True\n",
      "  usd_eur = yf.download('EURUSD=X', start='2010-01-01', end='2025-07-17')\n",
      "[*********************100%***********************]  1 of 1 completed\n"
     ]
    },
    {
     "data": {
      "text/html": [
       "<div>\n",
       "<style scoped>\n",
       "    .dataframe tbody tr th:only-of-type {\n",
       "        vertical-align: middle;\n",
       "    }\n",
       "\n",
       "    .dataframe tbody tr th {\n",
       "        vertical-align: top;\n",
       "    }\n",
       "\n",
       "    .dataframe thead tr th {\n",
       "        text-align: left;\n",
       "    }\n",
       "\n",
       "    .dataframe thead tr:last-of-type th {\n",
       "        text-align: right;\n",
       "    }\n",
       "</style>\n",
       "<table border=\"1\" class=\"dataframe\">\n",
       "  <thead>\n",
       "    <tr>\n",
       "      <th>Price</th>\n",
       "      <th>USD/EUR</th>\n",
       "    </tr>\n",
       "    <tr>\n",
       "      <th>Ticker</th>\n",
       "      <th>EURUSD=X</th>\n",
       "    </tr>\n",
       "    <tr>\n",
       "      <th>Fecha</th>\n",
       "      <th></th>\n",
       "    </tr>\n",
       "  </thead>\n",
       "  <tbody>\n",
       "    <tr>\n",
       "      <th>2010-01-01</th>\n",
       "      <td>1.438994</td>\n",
       "    </tr>\n",
       "    <tr>\n",
       "      <th>2010-01-04</th>\n",
       "      <td>1.442398</td>\n",
       "    </tr>\n",
       "    <tr>\n",
       "      <th>2010-01-05</th>\n",
       "      <td>1.436596</td>\n",
       "    </tr>\n",
       "    <tr>\n",
       "      <th>2010-01-06</th>\n",
       "      <td>1.440403</td>\n",
       "    </tr>\n",
       "    <tr>\n",
       "      <th>2010-01-07</th>\n",
       "      <td>1.431803</td>\n",
       "    </tr>\n",
       "  </tbody>\n",
       "</table>\n",
       "</div>"
      ],
      "text/plain": [
       "Price        USD/EUR\n",
       "Ticker      EURUSD=X\n",
       "Fecha               \n",
       "2010-01-01  1.438994\n",
       "2010-01-04  1.442398\n",
       "2010-01-05  1.436596\n",
       "2010-01-06  1.440403\n",
       "2010-01-07  1.431803"
      ]
     },
     "execution_count": 3,
     "metadata": {},
     "output_type": "execute_result"
    }
   ],
   "source": [
    "# Descarga del tipo de cambio USD/EUR\n",
    "usd_eur = yf.download('EURUSD=X', start='2010-01-01', end='2025-07-17')\n",
    "\n",
    "# Seleccionamos sólo el precio de cierre diario\n",
    "usd_eur = usd_eur[['Close']].rename(columns={'Close': 'USD/EUR'})\n",
    "usd_eur.index.name = 'Fecha'\n",
    "\n",
    "# Vista preliminar\n",
    "usd_eur.head()\n"
   ]
  },
  {
   "cell_type": "code",
   "execution_count": 4,
   "id": "43fe077a",
   "metadata": {},
   "outputs": [
    {
     "name": "stderr",
     "output_type": "stream",
     "text": [
      "C:\\Users\\cpuertas\\AppData\\Local\\Temp\\ipykernel_10832\\1211452938.py:2: FutureWarning: YF.download() has changed argument auto_adjust default to True\n",
      "  dxy = yf.download('DX-Y.NYB', start='2010-01-01', end='2025-07-17')\n",
      "[*********************100%***********************]  1 of 1 completed\n"
     ]
    },
    {
     "data": {
      "text/html": [
       "<div>\n",
       "<style scoped>\n",
       "    .dataframe tbody tr th:only-of-type {\n",
       "        vertical-align: middle;\n",
       "    }\n",
       "\n",
       "    .dataframe tbody tr th {\n",
       "        vertical-align: top;\n",
       "    }\n",
       "\n",
       "    .dataframe thead tr th {\n",
       "        text-align: left;\n",
       "    }\n",
       "\n",
       "    .dataframe thead tr:last-of-type th {\n",
       "        text-align: right;\n",
       "    }\n",
       "</style>\n",
       "<table border=\"1\" class=\"dataframe\">\n",
       "  <thead>\n",
       "    <tr>\n",
       "      <th>Price</th>\n",
       "      <th>DXY</th>\n",
       "    </tr>\n",
       "    <tr>\n",
       "      <th>Ticker</th>\n",
       "      <th>DX-Y.NYB</th>\n",
       "    </tr>\n",
       "    <tr>\n",
       "      <th>Fecha</th>\n",
       "      <th></th>\n",
       "    </tr>\n",
       "  </thead>\n",
       "  <tbody>\n",
       "    <tr>\n",
       "      <th>2010-01-04</th>\n",
       "      <td>77.529999</td>\n",
       "    </tr>\n",
       "    <tr>\n",
       "      <th>2010-01-05</th>\n",
       "      <td>77.620003</td>\n",
       "    </tr>\n",
       "    <tr>\n",
       "      <th>2010-01-06</th>\n",
       "      <td>77.489998</td>\n",
       "    </tr>\n",
       "    <tr>\n",
       "      <th>2010-01-07</th>\n",
       "      <td>77.910004</td>\n",
       "    </tr>\n",
       "    <tr>\n",
       "      <th>2010-01-08</th>\n",
       "      <td>77.470001</td>\n",
       "    </tr>\n",
       "  </tbody>\n",
       "</table>\n",
       "</div>"
      ],
      "text/plain": [
       "Price             DXY\n",
       "Ticker       DX-Y.NYB\n",
       "Fecha                \n",
       "2010-01-04  77.529999\n",
       "2010-01-05  77.620003\n",
       "2010-01-06  77.489998\n",
       "2010-01-07  77.910004\n",
       "2010-01-08  77.470001"
      ]
     },
     "execution_count": 4,
     "metadata": {},
     "output_type": "execute_result"
    }
   ],
   "source": [
    "# Descarga del índice DXY (Dollar Index)\n",
    "dxy = yf.download('DX-Y.NYB', start='2010-01-01', end='2025-07-17')\n",
    "\n",
    "# Seleccionamos el cierre\n",
    "dxy = dxy[['Close']].rename(columns={'Close': 'DXY'})\n",
    "dxy.index.name = 'Fecha'\n",
    "\n",
    "# Vista preliminar\n",
    "dxy.head()\n"
   ]
  },
  {
   "cell_type": "code",
   "execution_count": 5,
   "id": "8677115e",
   "metadata": {},
   "outputs": [
    {
     "name": "stderr",
     "output_type": "stream",
     "text": [
      "C:\\Users\\cpuertas\\AppData\\Local\\Temp\\ipykernel_10832\\3715466187.py:16: UserWarning: Glyph 128200 (\\N{CHART WITH UPWARDS TREND}) missing from font(s) Arial.\n",
      "  plt.tight_layout()\n",
      "c:\\ProgramData\\anaconda3\\Lib\\site-packages\\IPython\\core\\pylabtools.py:170: UserWarning: Glyph 128200 (\\N{CHART WITH UPWARDS TREND}) missing from font(s) Arial.\n",
      "  fig.canvas.print_figure(bytes_io, **kw)\n"
     ]
    },
    {
     "data": {
      "image/png": "[encoded data removed]",
      "text/plain": [
       "<Figure size 1400x600 with 1 Axes>"
      ]
     },
     "metadata": {},
     "output_type": "display_data"
    }
   ],
   "source": [
    "# Configuramos la figura\n",
    "plt.figure(figsize=(14, 6))\n",
    "\n",
    "# Primer eje: USD/EUR\n",
    "plt.plot(usd_eur.index, usd_eur['USD/EUR'], label='USD/EUR', color='blue')\n",
    "\n",
    "# Segundo eje: DXY\n",
    "plt.plot(dxy.index, dxy['DXY'], label='DXY Index', color='green')\n",
    "\n",
    "# Estética\n",
    "plt.title('📈 Evolución del USD/EUR y DXY desde 2010')\n",
    "plt.xlabel('Fecha')\n",
    "plt.ylabel('Valor')\n",
    "plt.legend()\n",
    "plt.grid(True)\n",
    "plt.tight_layout()\n",
    "plt.show()\n"
   ]
  },
  {
   "cell_type": "code",
   "execution_count": 6,
   "id": "bc9a17d3",
   "metadata": {},
   "outputs": [
    {
     "data": {
      "text/html": [
       "<div>\n",
       "<style scoped>\n",
       "    .dataframe tbody tr th:only-of-type {\n",
       "        vertical-align: middle;\n",
       "    }\n",
       "\n",
       "    .dataframe tbody tr th {\n",
       "        vertical-align: top;\n",
       "    }\n",
       "\n",
       "    .dataframe thead th {\n",
       "        text-align: right;\n",
       "    }\n",
       "</style>\n",
       "<table border=\"1\" class=\"dataframe\">\n",
       "  <thead>\n",
       "    <tr style=\"text-align: right;\">\n",
       "      <th></th>\n",
       "      <th>Inflación USA</th>\n",
       "    </tr>\n",
       "    <tr>\n",
       "      <th>Fecha</th>\n",
       "      <th></th>\n",
       "    </tr>\n",
       "  </thead>\n",
       "  <tbody>\n",
       "    <tr>\n",
       "      <th>1947-01-01</th>\n",
       "      <td>21.48</td>\n",
       "    </tr>\n",
       "    <tr>\n",
       "      <th>1947-02-01</th>\n",
       "      <td>21.62</td>\n",
       "    </tr>\n",
       "    <tr>\n",
       "      <th>1947-03-01</th>\n",
       "      <td>22.00</td>\n",
       "    </tr>\n",
       "    <tr>\n",
       "      <th>1947-04-01</th>\n",
       "      <td>22.00</td>\n",
       "    </tr>\n",
       "    <tr>\n",
       "      <th>1947-05-01</th>\n",
       "      <td>21.95</td>\n",
       "    </tr>\n",
       "  </tbody>\n",
       "</table>\n",
       "</div>"
      ],
      "text/plain": [
       "            Inflación USA\n",
       "Fecha                    \n",
       "1947-01-01          21.48\n",
       "1947-02-01          21.62\n",
       "1947-03-01          22.00\n",
       "1947-04-01          22.00\n",
       "1947-05-01          21.95"
      ]
     },
     "execution_count": 6,
     "metadata": {},
     "output_type": "execute_result"
    }
   ],
   "source": [
    "# URL del CSV oficial de inflación (CPI)\n",
    "url = 'https://fred.stlouisfed.org/graph/fredgraph.csv?id=CPIAUCSL'\n",
    "\n",
    "# Descarga y lectura del archivo\n",
    "response = requests.get(url)\n",
    "inflacion = pd.read_csv(StringIO(response.text))\n",
    "\n",
    "# Limpieza de columnas\n",
    "inflacion.columns = inflacion.columns.str.strip()\n",
    "\n",
    "# Conversión de fechas y renombrado\n",
    "inflacion['observation_date'] = pd.to_datetime(inflacion['observation_date'])\n",
    "inflacion = inflacion.set_index('observation_date').rename(columns={'CPIAUCSL': 'Inflación USA'})\n",
    "inflacion.index.name = 'Fecha'\n",
    "\n",
    "# Vista preliminar\n",
    "inflacion.head()\n"
   ]
  },
  {
   "cell_type": "code",
   "execution_count": 10,
   "id": "a98e32f6",
   "metadata": {},
   "outputs": [],
   "source": [
    "usd_eur.to_csv('USD_EUR.csv')\n",
    "dxy.to_csv('DXY_Index.csv')\n",
    "inflacion.to_csv('Inflacion_USA.csv')\n"
   ]
  },
  {
   "cell_type": "code",
   "execution_count": 11,
   "id": "b9d13f60",
   "metadata": {},
   "outputs": [
    {
     "data": {
      "text/html": [
       "<div>\n",
       "<style scoped>\n",
       "    .dataframe tbody tr th:only-of-type {\n",
       "        vertical-align: middle;\n",
       "    }\n",
       "\n",
       "    .dataframe tbody tr th {\n",
       "        vertical-align: top;\n",
       "    }\n",
       "\n",
       "    .dataframe thead th {\n",
       "        text-align: right;\n",
       "    }\n",
       "</style>\n",
       "<table border=\"1\" class=\"dataframe\">\n",
       "  <thead>\n",
       "    <tr style=\"text-align: right;\">\n",
       "      <th></th>\n",
       "      <th>Tasa Fed</th>\n",
       "    </tr>\n",
       "    <tr>\n",
       "      <th>Fecha</th>\n",
       "      <th></th>\n",
       "    </tr>\n",
       "  </thead>\n",
       "  <tbody>\n",
       "    <tr>\n",
       "      <th>1954-07-01</th>\n",
       "      <td>0.80</td>\n",
       "    </tr>\n",
       "    <tr>\n",
       "      <th>1954-08-01</th>\n",
       "      <td>1.22</td>\n",
       "    </tr>\n",
       "    <tr>\n",
       "      <th>1954-09-01</th>\n",
       "      <td>1.07</td>\n",
       "    </tr>\n",
       "    <tr>\n",
       "      <th>1954-10-01</th>\n",
       "      <td>0.85</td>\n",
       "    </tr>\n",
       "    <tr>\n",
       "      <th>1954-11-01</th>\n",
       "      <td>0.83</td>\n",
       "    </tr>\n",
       "  </tbody>\n",
       "</table>\n",
       "</div>"
      ],
      "text/plain": [
       "            Tasa Fed\n",
       "Fecha               \n",
       "1954-07-01      0.80\n",
       "1954-08-01      1.22\n",
       "1954-09-01      1.07\n",
       "1954-10-01      0.85\n",
       "1954-11-01      0.83"
      ]
     },
     "execution_count": 11,
     "metadata": {},
     "output_type": "execute_result"
    }
   ],
   "source": [
    "url_fed = 'https://fred.stlouisfed.org/graph/fredgraph.csv?id=FEDFUNDS'\n",
    "response_fed = requests.get(url_fed)\n",
    "fed_rate = pd.read_csv(StringIO(response_fed.text))\n",
    "fed_rate.columns = fed_rate.columns.str.strip()\n",
    "fed_rate['observation_date'] = pd.to_datetime(fed_rate['observation_date'])\n",
    "fed_rate = fed_rate.set_index('observation_date').rename(columns={'FEDFUNDS': 'Tasa Fed'})\n",
    "fed_rate.index.name = 'Fecha'\n",
    "fed_rate.head()\n"
   ]
  },
  {
   "cell_type": "code",
   "execution_count": 12,
   "id": "f01c3f7e",
   "metadata": {},
   "outputs": [],
   "source": [
    "fed_rate.to_csv('Tasa_Interes_Fed.csv')\n"
   ]
  }
 ],
 "metadata": {
  "kernelspec": {
   "display_name": "base",
   "language": "python",
   "name": "python3"
  },
  "language_info": {
   "codemirror_mode": {
    "name": "ipython",
    "version": 3
   },
   "file_extension": ".py",
   "mimetype": "text/x-python",
   "name": "python",
   "nbconvert_exporter": "python",
   "pygments_lexer": "ipython3",
   "version": "3.13.5"
  }
 },
 "nbformat": 4,
 "nbformat_minor": 5
}
